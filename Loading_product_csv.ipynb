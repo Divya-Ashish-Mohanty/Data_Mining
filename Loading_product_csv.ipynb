{
 "cells": [
  {
   "cell_type": "code",
   "execution_count": 156,
   "metadata": {},
   "outputs": [],
   "source": [
    "import pandas as pd\n",
    "import numpy as np\n",
    "import snowflake.connector as sf\n",
    "from bs4 import BeautifulSoup\n",
    "import requests\n",
    "from snowflake.connector.pandas_tools import write_pandas"
   ]
  },
  {
   "cell_type": "code",
   "execution_count": 157,
   "metadata": {},
   "outputs": [],
   "source": [
    "connection = sf.connect(user = 'DIVYAASHISHMOHANTY',\n",
    "                        role = 'ACCOUNTADMIN',\n",
    "                        password = 'Divyaashish_9438',\n",
    "                        account = 'ad31709.central-india.azure',\n",
    "                        warehouse = 'COMPUTE_WH',\n",
    "                        database = 'PRACTICE', \n",
    "                        schema = 'p1')"
   ]
  },
  {
   "cell_type": "code",
   "execution_count": 158,
   "metadata": {},
   "outputs": [],
   "source": [
    "cursor=connection.cursor()"
   ]
  },
  {
   "cell_type": "code",
   "execution_count": 159,
   "metadata": {},
   "outputs": [
    {
     "data": {
      "text/plain": [
       "<snowflake.connector.cursor.SnowflakeCursor at 0x25e4c75c090>"
      ]
     },
     "execution_count": 159,
     "metadata": {},
     "output_type": "execute_result"
    }
   ],
   "source": [
    "cursor.execute('use schema p1')"
   ]
  },
  {
   "cell_type": "code",
   "execution_count": 160,
   "metadata": {},
   "outputs": [],
   "source": [
    "productdf = pd.read_csv(\"product.csv\")"
   ]
  },
  {
   "cell_type": "code",
   "execution_count": 161,
   "metadata": {},
   "outputs": [
    {
     "data": {
      "text/html": [
       "<div>\n",
       "<style scoped>\n",
       "    .dataframe tbody tr th:only-of-type {\n",
       "        vertical-align: middle;\n",
       "    }\n",
       "\n",
       "    .dataframe tbody tr th {\n",
       "        vertical-align: top;\n",
       "    }\n",
       "\n",
       "    .dataframe thead th {\n",
       "        text-align: right;\n",
       "    }\n",
       "</style>\n",
       "<table border=\"1\" class=\"dataframe\">\n",
       "  <thead>\n",
       "    <tr style=\"text-align: right;\">\n",
       "      <th></th>\n",
       "      <th>INDEX</th>\n",
       "      <th>NAME</th>\n",
       "      <th>DESCRIPTION</th>\n",
       "      <th>PRICE</th>\n",
       "      <th>REVIEWS</th>\n",
       "    </tr>\n",
       "  </thead>\n",
       "  <tbody>\n",
       "    <tr>\n",
       "      <th>0</th>\n",
       "      <td>0</td>\n",
       "      <td>Lenovo IdeaTab</td>\n",
       "      <td>7\" screen, Android</td>\n",
       "      <td>$69.99</td>\n",
       "      <td>7 reviews</td>\n",
       "    </tr>\n",
       "    <tr>\n",
       "      <th>1</th>\n",
       "      <td>1</td>\n",
       "      <td>IdeaTab A3500L</td>\n",
       "      <td>Black, 7\" IPS, Quad-Core 1.2GHz, 8GB, Android 4.2</td>\n",
       "      <td>$88.99</td>\n",
       "      <td>7 reviews</td>\n",
       "    </tr>\n",
       "    <tr>\n",
       "      <th>2</th>\n",
       "      <td>2</td>\n",
       "      <td>Acer Iconia</td>\n",
       "      <td>7\" screen, Android, 16GB</td>\n",
       "      <td>$96.99</td>\n",
       "      <td>7 reviews</td>\n",
       "    </tr>\n",
       "    <tr>\n",
       "      <th>3</th>\n",
       "      <td>3</td>\n",
       "      <td>Galaxy Tab 3</td>\n",
       "      <td>7\", 8GB, Wi-Fi, Android 4.2, White</td>\n",
       "      <td>$97.99</td>\n",
       "      <td>2 reviews</td>\n",
       "    </tr>\n",
       "    <tr>\n",
       "      <th>4</th>\n",
       "      <td>4</td>\n",
       "      <td>Iconia B1-730H...</td>\n",
       "      <td>Black, 7\", 1.6GHz Dual-Core, 8GB, Android 4.4</td>\n",
       "      <td>$99.99</td>\n",
       "      <td>1 reviews</td>\n",
       "    </tr>\n",
       "  </tbody>\n",
       "</table>\n",
       "</div>"
      ],
      "text/plain": [
       "   INDEX               NAME  \\\n",
       "0      0     Lenovo IdeaTab   \n",
       "1      1     IdeaTab A3500L   \n",
       "2      2        Acer Iconia   \n",
       "3      3       Galaxy Tab 3   \n",
       "4      4  Iconia B1-730H...   \n",
       "\n",
       "                                         DESCRIPTION   PRICE    REVIEWS  \n",
       "0                                 7\" screen, Android  $69.99  7 reviews  \n",
       "1  Black, 7\" IPS, Quad-Core 1.2GHz, 8GB, Android 4.2  $88.99  7 reviews  \n",
       "2                           7\" screen, Android, 16GB  $96.99  7 reviews  \n",
       "3                 7\", 8GB, Wi-Fi, Android 4.2, White  $97.99  2 reviews  \n",
       "4      Black, 7\", 1.6GHz Dual-Core, 8GB, Android 4.4  $99.99  1 reviews  "
      ]
     },
     "execution_count": 161,
     "metadata": {},
     "output_type": "execute_result"
    }
   ],
   "source": [
    "productdf.head()"
   ]
  },
  {
   "cell_type": "code",
   "execution_count": 162,
   "metadata": {},
   "outputs": [],
   "source": [
    "productdf.columns = map(str.upper,productdf.columns)"
   ]
  },
  {
   "cell_type": "code",
   "execution_count": 163,
   "metadata": {},
   "outputs": [
    {
     "data": {
      "text/html": [
       "<div>\n",
       "<style scoped>\n",
       "    .dataframe tbody tr th:only-of-type {\n",
       "        vertical-align: middle;\n",
       "    }\n",
       "\n",
       "    .dataframe tbody tr th {\n",
       "        vertical-align: top;\n",
       "    }\n",
       "\n",
       "    .dataframe thead th {\n",
       "        text-align: right;\n",
       "    }\n",
       "</style>\n",
       "<table border=\"1\" class=\"dataframe\">\n",
       "  <thead>\n",
       "    <tr style=\"text-align: right;\">\n",
       "      <th></th>\n",
       "      <th>INDEX</th>\n",
       "      <th>NAME</th>\n",
       "      <th>DESCRIPTION</th>\n",
       "      <th>PRICE</th>\n",
       "      <th>REVIEWS</th>\n",
       "    </tr>\n",
       "  </thead>\n",
       "  <tbody>\n",
       "    <tr>\n",
       "      <th>0</th>\n",
       "      <td>0</td>\n",
       "      <td>Lenovo IdeaTab</td>\n",
       "      <td>7\" screen, Android</td>\n",
       "      <td>$69.99</td>\n",
       "      <td>7 reviews</td>\n",
       "    </tr>\n",
       "    <tr>\n",
       "      <th>1</th>\n",
       "      <td>1</td>\n",
       "      <td>IdeaTab A3500L</td>\n",
       "      <td>Black, 7\" IPS, Quad-Core 1.2GHz, 8GB, Android 4.2</td>\n",
       "      <td>$88.99</td>\n",
       "      <td>7 reviews</td>\n",
       "    </tr>\n",
       "    <tr>\n",
       "      <th>2</th>\n",
       "      <td>2</td>\n",
       "      <td>Acer Iconia</td>\n",
       "      <td>7\" screen, Android, 16GB</td>\n",
       "      <td>$96.99</td>\n",
       "      <td>7 reviews</td>\n",
       "    </tr>\n",
       "    <tr>\n",
       "      <th>3</th>\n",
       "      <td>3</td>\n",
       "      <td>Galaxy Tab 3</td>\n",
       "      <td>7\", 8GB, Wi-Fi, Android 4.2, White</td>\n",
       "      <td>$97.99</td>\n",
       "      <td>2 reviews</td>\n",
       "    </tr>\n",
       "    <tr>\n",
       "      <th>4</th>\n",
       "      <td>4</td>\n",
       "      <td>Iconia B1-730H...</td>\n",
       "      <td>Black, 7\", 1.6GHz Dual-Core, 8GB, Android 4.4</td>\n",
       "      <td>$99.99</td>\n",
       "      <td>1 reviews</td>\n",
       "    </tr>\n",
       "  </tbody>\n",
       "</table>\n",
       "</div>"
      ],
      "text/plain": [
       "   INDEX               NAME  \\\n",
       "0      0     Lenovo IdeaTab   \n",
       "1      1     IdeaTab A3500L   \n",
       "2      2        Acer Iconia   \n",
       "3      3       Galaxy Tab 3   \n",
       "4      4  Iconia B1-730H...   \n",
       "\n",
       "                                         DESCRIPTION   PRICE    REVIEWS  \n",
       "0                                 7\" screen, Android  $69.99  7 reviews  \n",
       "1  Black, 7\" IPS, Quad-Core 1.2GHz, 8GB, Android 4.2  $88.99  7 reviews  \n",
       "2                           7\" screen, Android, 16GB  $96.99  7 reviews  \n",
       "3                 7\", 8GB, Wi-Fi, Android 4.2, White  $97.99  2 reviews  \n",
       "4      Black, 7\", 1.6GHz Dual-Core, 8GB, Android 4.4  $99.99  1 reviews  "
      ]
     },
     "execution_count": 163,
     "metadata": {},
     "output_type": "execute_result"
    }
   ],
   "source": [
    "productdf.head()"
   ]
  },
  {
   "cell_type": "code",
   "execution_count": 164,
   "metadata": {},
   "outputs": [],
   "source": [
    "productdf = productdf.rename({\"UNNAMED: 0\" : \"INDEX\"}, axis =1)"
   ]
  },
  {
   "cell_type": "code",
   "execution_count": 165,
   "metadata": {},
   "outputs": [],
   "source": [
    "productdf.to_csv(\"product.csv\", index=False)"
   ]
  },
  {
   "cell_type": "code",
   "execution_count": 166,
   "metadata": {},
   "outputs": [
    {
     "data": {
      "text/plain": [
       "(True,\n",
       " 1,\n",
       " 21,\n",
       " [('joyfleiavy/file0.txt', 'LOADED', 21, 21, 1, 0, None, None, None, None)])"
      ]
     },
     "execution_count": 166,
     "metadata": {},
     "output_type": "execute_result"
    }
   ],
   "source": [
    "cursor.execute('use schema p1')\n",
    "write_pandas(connection,productdf,table_name='PRODUCT')"
   ]
  }
 ],
 "metadata": {
  "kernelspec": {
   "display_name": "Python 3",
   "language": "python",
   "name": "python3"
  },
  "language_info": {
   "codemirror_mode": {
    "name": "ipython",
    "version": 3
   },
   "file_extension": ".py",
   "mimetype": "text/x-python",
   "name": "python",
   "nbconvert_exporter": "python",
   "pygments_lexer": "ipython3",
   "version": "3.11.9"
  }
 },
 "nbformat": 4,
 "nbformat_minor": 2
}
